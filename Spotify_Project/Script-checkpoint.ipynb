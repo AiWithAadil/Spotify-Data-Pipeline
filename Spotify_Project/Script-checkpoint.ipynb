{
 "cells": [
  {
   "cell_type": "code",
   "execution_count": 11,
   "id": "6b306246-1808-453e-9f4c-2d7a0f095d78",
   "metadata": {},
   "outputs": [],
   "source": [
    "import requests\n",
    "import base64\n",
    "import json"
   ]
  },
  {
   "cell_type": "code",
   "execution_count": 66,
   "id": "20dcbdb0-6760-44f2-ae3a-aded79e9d1c6",
   "metadata": {},
   "outputs": [],
   "source": [
    "CLIENT_ID = \"**********************\"\n",
    "CLIENT_SECRET = \"************************\""
   ]
  },
  {
   "cell_type": "code",
   "execution_count": 67,
   "id": "3c7d6920-cd12-4022-885c-9e462cea7b7d",
   "metadata": {},
   "outputs": [],
   "source": [
    "def get_token():\n",
    "    # Prepare the authentication string\n",
    "    auth_string = f\"{CLIENT_ID}:{CLIENT_SECRET}\"\n",
    "    auth_bytes = auth_string.encode(\"utf-8\")\n",
    "    auth_base64 = str(base64.b64encode(auth_bytes), \"utf-8\")\n",
    "\n",
    "    url = \"https://accounts.spotify.com/api/token\"\n",
    "    headers = {\n",
    "        \"Authorization\": \"Basic \" + auth_base64,\n",
    "        \"Content-Type\": \"application/x-www-form-urlencoded\"\n",
    "    }\n",
    "    data = {\"grant_type\": \"client_credentials\"}\n",
    "    \n",
    "    # Make the POST request to get the token\n",
    "    result = requests.post(url, headers=headers, data=data)\n",
    "    \n",
    "    # Parse the JSON response\n",
    "    json_result = result.json()  # Use .json() instead of json.load()\n",
    "    \n",
    "    # Extract and return the access token\n",
    "    token = json_result.get(\"access_token\")\n",
    "    return token\n",
    "\n",
    "# Get the token\n",
    "token = get_token()"
   ]
  },
  {
   "cell_type": "code",
   "execution_count": 68,
   "id": "fcbb4142-6f95-4a7f-a1e5-5ce0d6dcb0f4",
   "metadata": {},
   "outputs": [
    {
     "name": "stdout",
     "output_type": "stream",
     "text": [
      "BQCZXh_-VKTbm518g8v1QPcLOLOi_Q_oLE7GrU06qfGr5QsaNShyRjyVutRxtlvvnzq3Brc3hlYtZqUtspoKA6-JH6_q64fY6Dd1zSx7sw4CBuhDVWQ\n"
     ]
    }
   ],
   "source": [
    "print(token)"
   ]
  },
  {
   "cell_type": "code",
   "execution_count": 69,
   "id": "bf3fec08-d974-4562-92dc-72c9b00a31e3",
   "metadata": {},
   "outputs": [
    {
     "name": "stdout",
     "output_type": "stream",
     "text": [
      "{'artists': {'href': 'https://api.spotify.com/v1/search?offset=0&limit=10&query=0TnOYISbd1XYRBk9myaseg&type=artist', 'limit': 10, 'next': 'https://api.spotify.com/v1/search?offset=10&limit=10&query=0TnOYISbd1XYRBk9myaseg&type=artist', 'offset': 0, 'previous': None, 'total': 800, 'items': [{'external_urls': {'spotify': 'https://open.spotify.com/artist/3scNK8e4mqnP6Rb8a3lwZY'}, 'followers': {'href': None, 'total': 127051}, 'genres': ['pakistani hip hop', 'pakistani pop'], 'href': 'https://api.spotify.com/v1/artists/3scNK8e4mqnP6Rb8a3lwZY', 'id': '3scNK8e4mqnP6Rb8a3lwZY', 'images': [{'url': 'https://i.scdn.co/image/ab6761610000e5eb9b6c7e199b426c19e47e0cfc', 'height': 640, 'width': 640}, {'url': 'https://i.scdn.co/image/ab676161000051749b6c7e199b426c19e47e0cfc', 'height': 320, 'width': 320}, {'url': 'https://i.scdn.co/image/ab6761610000f1789b6c7e199b426c19e47e0cfc', 'height': 160, 'width': 160}], 'name': 'Maanu', 'popularity': 60, 'type': 'artist', 'uri': 'spotify:artist:3scNK8e4mqnP6Rb8a3lwZY'}, {'external_urls': {'spotify': 'https://open.spotify.com/artist/1SlrUQlFRfExXSCkHsQgBc'}, 'followers': {'href': None, 'total': 155787}, 'genres': ['pakistani hip hop', 'urdu hip hop'], 'href': 'https://api.spotify.com/v1/artists/1SlrUQlFRfExXSCkHsQgBc', 'id': '1SlrUQlFRfExXSCkHsQgBc', 'images': [{'url': 'https://i.scdn.co/image/ab6761610000e5eb25246f5e57906dc47e48530e', 'height': 640, 'width': 640}, {'url': 'https://i.scdn.co/image/ab6761610000517425246f5e57906dc47e48530e', 'height': 320, 'width': 320}, {'url': 'https://i.scdn.co/image/ab6761610000f17825246f5e57906dc47e48530e', 'height': 160, 'width': 160}], 'name': 'JJ47', 'popularity': 54, 'type': 'artist', 'uri': 'spotify:artist:1SlrUQlFRfExXSCkHsQgBc'}, {'external_urls': {'spotify': 'https://open.spotify.com/artist/6YYXnbmC3hUuP2G9ZNerwf'}, 'followers': {'href': None, 'total': 93348}, 'genres': ['saraiki pop'], 'href': 'https://api.spotify.com/v1/artists/6YYXnbmC3hUuP2G9ZNerwf', 'id': '6YYXnbmC3hUuP2G9ZNerwf', 'images': [{'url': 'https://i.scdn.co/image/ab6761610000e5ebff2aa434883a851b237e1920', 'height': 640, 'width': 640}, {'url': 'https://i.scdn.co/image/ab67616100005174ff2aa434883a851b237e1920', 'height': 320, 'width': 320}, {'url': 'https://i.scdn.co/image/ab6761610000f178ff2aa434883a851b237e1920', 'height': 160, 'width': 160}], 'name': 'Zeeshan Khan Rokhri', 'popularity': 38, 'type': 'artist', 'uri': 'spotify:artist:6YYXnbmC3hUuP2G9ZNerwf'}, {'external_urls': {'spotify': 'https://open.spotify.com/artist/384pA1WJO9B09gUcuIL2XP'}, 'followers': {'href': None, 'total': 268488}, 'genres': ['pakistani hip hop', 'urdu hip hop'], 'href': 'https://api.spotify.com/v1/artists/384pA1WJO9B09gUcuIL2XP', 'id': '384pA1WJO9B09gUcuIL2XP', 'images': [{'url': 'https://i.scdn.co/image/ab6761610000e5ebe44dd809ea42ee0d37b5b634', 'height': 640, 'width': 640}, {'url': 'https://i.scdn.co/image/ab67616100005174e44dd809ea42ee0d37b5b634', 'height': 320, 'width': 320}, {'url': 'https://i.scdn.co/image/ab6761610000f178e44dd809ea42ee0d37b5b634', 'height': 160, 'width': 160}], 'name': 'aleemrk', 'popularity': 53, 'type': 'artist', 'uri': 'spotify:artist:384pA1WJO9B09gUcuIL2XP'}, {'external_urls': {'spotify': 'https://open.spotify.com/artist/3fuVoj41Ig8pV6J55JU1NS'}, 'followers': {'href': None, 'total': 53492}, 'genres': ['afghan pop', 'pashto pop'], 'href': 'https://api.spotify.com/v1/artists/3fuVoj41Ig8pV6J55JU1NS', 'id': '3fuVoj41Ig8pV6J55JU1NS', 'images': [{'url': 'https://i.scdn.co/image/ab67616d0000b27367e77c7ac692cc72e136e279', 'height': 640, 'width': 640}, {'url': 'https://i.scdn.co/image/ab67616d00001e0267e77c7ac692cc72e136e279', 'height': 300, 'width': 300}, {'url': 'https://i.scdn.co/image/ab67616d0000485167e77c7ac692cc72e136e279', 'height': 64, 'width': 64}], 'name': 'Gul Panra', 'popularity': 35, 'type': 'artist', 'uri': 'spotify:artist:3fuVoj41Ig8pV6J55JU1NS'}, {'external_urls': {'spotify': 'https://open.spotify.com/artist/485dW6YyuxW3kpnWmuFnnv'}, 'followers': {'href': None, 'total': 2236}, 'genres': [], 'href': 'https://api.spotify.com/v1/artists/485dW6YyuxW3kpnWmuFnnv', 'id': '485dW6YyuxW3kpnWmuFnnv', 'images': [{'url': 'https://i.scdn.co/image/ab67616d0000b273cf61a5020340d6c7038f825a', 'height': 640, 'width': 640}, {'url': 'https://i.scdn.co/image/ab67616d00001e02cf61a5020340d6c7038f825a', 'height': 300, 'width': 300}, {'url': 'https://i.scdn.co/image/ab67616d00004851cf61a5020340d6c7038f825a', 'height': 64, 'width': 64}], 'name': 'Shajjar Hussain', 'popularity': 45, 'type': 'artist', 'uri': 'spotify:artist:485dW6YyuxW3kpnWmuFnnv'}, {'external_urls': {'spotify': 'https://open.spotify.com/artist/1CJqQZsNdOJbbWaoIHQm7g'}, 'followers': {'href': None, 'total': 72000}, 'genres': ['saraiki pop'], 'href': 'https://api.spotify.com/v1/artists/1CJqQZsNdOJbbWaoIHQm7g', 'id': '1CJqQZsNdOJbbWaoIHQm7g', 'images': [{'url': 'https://i.scdn.co/image/ab67616d0000b273f7512771664af4ab6ccf3573', 'height': 640, 'width': 640}, {'url': 'https://i.scdn.co/image/ab67616d00001e02f7512771664af4ab6ccf3573', 'height': 300, 'width': 300}, {'url': 'https://i.scdn.co/image/ab67616d00004851f7512771664af4ab6ccf3573', 'height': 64, 'width': 64}], 'name': 'Shafa Ullah Khan Rokhri', 'popularity': 35, 'type': 'artist', 'uri': 'spotify:artist:1CJqQZsNdOJbbWaoIHQm7g'}, {'external_urls': {'spotify': 'https://open.spotify.com/artist/6b3qsb0Mc5hW0bK1WuuaH3'}, 'followers': {'href': None, 'total': 63089}, 'genres': ['afghan pop', 'pashto pop'], 'href': 'https://api.spotify.com/v1/artists/6b3qsb0Mc5hW0bK1WuuaH3', 'id': '6b3qsb0Mc5hW0bK1WuuaH3', 'images': [{'url': 'https://i.scdn.co/image/ab6761610000e5ebce01d58d5cb2155667cf9113', 'height': 640, 'width': 640}, {'url': 'https://i.scdn.co/image/ab67616100005174ce01d58d5cb2155667cf9113', 'height': 320, 'width': 320}, {'url': 'https://i.scdn.co/image/ab6761610000f178ce01d58d5cb2155667cf9113', 'height': 160, 'width': 160}], 'name': 'Karan Khan', 'popularity': 33, 'type': 'artist', 'uri': 'spotify:artist:6b3qsb0Mc5hW0bK1WuuaH3'}, {'external_urls': {'spotify': 'https://open.spotify.com/artist/1gWtpJ8fBLRQYPPoT49Vv3'}, 'followers': {'href': None, 'total': 13510}, 'genres': ['pashto pop'], 'href': 'https://api.spotify.com/v1/artists/1gWtpJ8fBLRQYPPoT49Vv3', 'id': '1gWtpJ8fBLRQYPPoT49Vv3', 'images': [{'url': 'https://i.scdn.co/image/ab6761610000e5eb953311a8cb6306b82cf889d5', 'height': 640, 'width': 640}, {'url': 'https://i.scdn.co/image/ab67616100005174953311a8cb6306b82cf889d5', 'height': 320, 'width': 320}, {'url': 'https://i.scdn.co/image/ab6761610000f178953311a8cb6306b82cf889d5', 'height': 160, 'width': 160}], 'name': 'Wajid Layaq', 'popularity': 34, 'type': 'artist', 'uri': 'spotify:artist:1gWtpJ8fBLRQYPPoT49Vv3'}, {'external_urls': {'spotify': 'https://open.spotify.com/artist/0IJYAmQhqf7gY8FkoSCSwZ'}, 'followers': {'href': None, 'total': 7199}, 'genres': [], 'href': 'https://api.spotify.com/v1/artists/0IJYAmQhqf7gY8FkoSCSwZ', 'id': '0IJYAmQhqf7gY8FkoSCSwZ', 'images': [{'url': 'https://i.scdn.co/image/ab6761610000e5eb502ee1f55aaa9330f7b6ee54', 'height': 640, 'width': 640}, {'url': 'https://i.scdn.co/image/ab67616100005174502ee1f55aaa9330f7b6ee54', 'height': 320, 'width': 320}, {'url': 'https://i.scdn.co/image/ab6761610000f178502ee1f55aaa9330f7b6ee54', 'height': 160, 'width': 160}], 'name': 'BAIG', 'popularity': 43, 'type': 'artist', 'uri': 'spotify:artist:0IJYAmQhqf7gY8FkoSCSwZ'}]}}\n"
     ]
    }
   ],
   "source": [
    "def get_auth_header(token):\n",
    "    return {\n",
    "        \"Authorization\": f\"Bearer {token}\",\n",
    "        \"Content-Type\": \"application/json\"\n",
    "    }\n",
    "\n",
    "def search_for_artist(token, artist):\n",
    "    url = \"https://api.spotify.com/v1/search\"\n",
    "    headers = get_auth_header(token)\n",
    "    query = f\"?q={artist}&type=artist&limit=10\"  # Fixed the query string (limit=1)\n",
    "\n",
    "    query_url = url + query\n",
    "    result = requests.get(query_url, headers=headers)  # Fixed typo: 'resutl' to 'result'\n",
    "\n",
    "    # Parse the JSON response correctly using .json()\n",
    "    json_result = result.json()  # Use .json() to parse the response\n",
    "    print(json_result)\n",
    "\n",
    "# Example: Search for an artist using the artist's ID\n",
    "search_for_artist(token, \"0TnOYISbd1XYRBk9myaseg\")"
   ]
  },
  {
   "cell_type": "code",
   "execution_count": null,
   "id": "315ebc7c-7732-4192-814f-4a5235c261d8",
   "metadata": {},
   "outputs": [],
   "source": [
    "import logging\n",
    "import requests\n",
    "import boto3\n",
    "import json\n",
    "from datetime import datetime\n",
    "import watchtower\n",
    "\n",
    "# CloudWatch client\n",
    "logs_client = boto3.client('logs', region_name='us-east-1')  # Change region if needed\n",
    "\n",
    "log_group_name = '/spotify-data-log'  # Specify your CloudWatch log group\n",
    "log_stream_name = 'spotify'  # Specify your CloudWatch log stream\n",
    "\n",
    "# Set up the logger\n",
    "logger = logging.getLogger()\n",
    "logger.setLevel(logging.INFO)\n",
    "logger.addHandler(watchtower.CloudWatchLogHandler(log_group=log_group_name, stream_name=log_stream_name))\n",
    "\n",
    "# Prepare the headers for the API request\n",
    "def get_auth_header(token):\n",
    "    return {\n",
    "        \"Authorization\": f\"Bearer {token}\",\n",
    "        \"Content-Type\": \"application/json\"\n",
    "    }\n",
    "\n",
    "# Search for artist and format the data\n",
    "def search_for_artist(token, artist):\n",
    "    url = \"https://api.spotify.com/v1/search\"\n",
    "    headers = get_auth_header(token)\n",
    "    query = f\"?q={artist}&type=artist&limit=5\"  # Search for 10 artists\n",
    "\n",
    "    query_url = url + query\n",
    "    result = requests.get(query_url, headers=headers)\n",
    "\n",
    "    # Parse the JSON response correctly using .json()\n",
    "    json_result = result.json()\n",
    "\n",
    "    # Assuming the result has the expected structure and extracting data\n",
    "    artists_info = []\n",
    "    if 'artists' in json_result and 'items' in json_result['artists'] and json_result['artists']['items']:\n",
    "        for artist_data in json_result['artists']['items']:\n",
    "            artist_info = {\n",
    "                \"Artist Name\": artist_data.get(\"name\"),\n",
    "                \"URI\": artist_data.get(\"uri\"),\n",
    "                \"Followers\": artist_data['followers'].get('total'),\n",
    "                \"Genres\": \", \".join(artist_data.get('genres', [])),\n",
    "                \"Popularity\": artist_data.get(\"popularity\"),\n",
    "                \"Image URL\": artist_data['images'][0]['url'] if artist_data.get('images') else None\n",
    "            }\n",
    "            artists_info.append(artist_info)\n",
    "\n",
    "    if artists_info:\n",
    "        formatted_data = json.dumps(artists_info, indent=4)\n",
    "        logger.info(f\"Formatted Artist Info: {formatted_data}\")  # Log to CloudWatch\n",
    "\n",
    "        # Step 3: Send formatted data to CloudWatch\n",
    "        send_to_cloudwatch(formatted_data)\n",
    "    else:\n",
    "        logger.error(\"No artists found or data issue.\")\n",
    "\n",
    "# Send formatted data to CloudWatch Logs\n",
    "def send_to_cloudwatch(data):\n",
    "    # Ensure the log group and stream exist\n",
    "    try:\n",
    "        logs_client.create_log_group(logGroupName=log_group_name)\n",
    "    except logs_client.exceptions.ResourceAlreadyExistsException:\n",
    "        logger.info(f\"Log group {log_group_name} already exists.\")\n",
    "\n",
    "    try:\n",
    "        logs_client.create_log_stream(logGroupName=log_group_name, logStreamName=log_stream_name)\n",
    "    except logs_client.exceptions.ResourceAlreadyExistsException:\n",
    "        logger.info(f\"Log stream {log_stream_name} already exists.\")\n",
    "\n",
    "    # Get the current timestamp in milliseconds\n",
    "    timestamp = int(datetime.utcnow().timestamp() * 1000)\n",
    "\n",
    "    # Put the log event into CloudWatch\n",
    "    try:\n",
    "        logs_client.put_log_events(\n",
    "            logGroupName=log_group_name,\n",
    "            logStreamName=log_stream_name,\n",
    "            logEvents=[{\n",
    "                'timestamp': timestamp,\n",
    "                'message': data\n",
    "            }]\n",
    "        )\n",
    "        logger.info(f\"Successfully logged data to CloudWatch log stream: {log_stream_name}\")\n",
    "    except Exception as e:\n",
    "        logger.error(f\"Failed to send data to CloudWatch: {e}\")\n",
    "\n",
    "# Example: Call the function to search for an artist\n",
    "token = token  # Replace with your actual token\n",
    "search_for_artist(token, \"pop\")  # Example artist search for \"pop\"\n"
   ]
  },
  {
   "cell_type": "code",
   "execution_count": null,
   "id": "8264355d-8f34-4bde-8bb1-c62d1927a7c8",
   "metadata": {},
   "outputs": [],
   "source": []
  }
 ],
 "metadata": {
  "kernelspec": {
   "display_name": "Python 3 (ipykernel)",
   "language": "python",
   "name": "python3"
  },
  "language_info": {
   "codemirror_mode": {
    "name": "ipython",
    "version": 3
   },
   "file_extension": ".py",
   "mimetype": "text/x-python",
   "name": "python",
   "nbconvert_exporter": "python",
   "pygments_lexer": "ipython3",
   "version": "3.11.7"
  }
 },
 "nbformat": 4,
 "nbformat_minor": 5
}
