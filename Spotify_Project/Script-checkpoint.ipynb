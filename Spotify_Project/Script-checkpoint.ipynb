{
 "cells": [
  {
   "cell_type": "code",
   "execution_count": 11,
   "id": "6b306246-1808-453e-9f4c-2d7a0f095d78",
   "metadata": {},
   "outputs": [],
   "source": [
    "import requests\n",
    "import base64\n",
    "import json"
   ]
  },
  {
   "cell_type": "code",
   "execution_count": 66,
   "id": "20dcbdb0-6760-44f2-ae3a-aded79e9d1c6",
   "metadata": {},
   "outputs": [],
   "source": [
    "CLIENT_ID = \"**********************\"\n",
    "CLIENT_SECRET = \"************************\""
   ]
  },
  {
   "cell_type": "code",
   "execution_count": 67,
   "id": "3c7d6920-cd12-4022-885c-9e462cea7b7d",
   "metadata": {},
   "outputs": [],
   "source": [
    "def get_token():\n",
    "    # Prepare the authentication string\n",
    "    auth_string = f\"{CLIENT_ID}:{CLIENT_SECRET}\"\n",
    "    auth_bytes = auth_string.encode(\"utf-8\")\n",
    "    auth_base64 = str(base64.b64encode(auth_bytes), \"utf-8\")\n",
    "\n",
    "    url = \"https://accounts.spotify.com/api/token\"\n",
    "    headers = {\n",
    "        \"Authorization\": \"Basic \" + auth_base64,\n",
    "        \"Content-Type\": \"application/x-www-form-urlencoded\"\n",
    "    }\n",
    "    data = {\"grant_type\": \"client_credentials\"}\n",
    "    \n",
    "    # Make the POST request to get the token\n",
    "    result = requests.post(url, headers=headers, data=data)\n",
    "    \n",
    "    # Parse the JSON response\n",
    "    json_result = result.json()  # Use .json() instead of json.load()\n",
    "    \n",
    "    # Extract and return the access token\n",
    "    token = json_result.get(\"access_token\")\n",
    "    return token\n",
    "\n",
    "# Get the token\n",
    "token = get_token()"
   ]
  },
  {
   "cell_type": "code",
   "execution_count": 68,
   "id": "fcbb4142-6f95-4a7f-a1e5-5ce0d6dcb0f4",
   "metadata": {},
   "outputs": [
    {
     "name": "stdout",
     "output_type": "stream",
     "text": [
      "BQCZXh_-VKTbm518g8v1QPcLOLOi_Q_oLE7GrU06qfGr5QsaNShyRjyVutRxtlvvnzq3Brc3hlYtZqUtspoKA6-JH6_q64fY6Dd1zSx7sw4CBuhDVWQ\n"
     ]
    }
   ],
   "source": [
    "print(token)"
   ]
  },
  {
   "cell_type": "code",
   "execution_count": null,
   "id": "bf3fec08-d974-4562-92dc-72c9b00a31e3",
   "metadata": {},
   "outputs": [
    {
     "name": "stdout",
     "output_type": "stream",
     "text": [
      "{'artists': {'href': 'https://api.spotify.com/v1/search?offset=0&limit=10&query=0TnOYISbd1XYRBk9myaseg&type=artist', 'limit': 10, 'next': 'https://api.spotify.com/v1/search?offset=10&limit=10&query=0TnOYISbd1XYRBk9myaseg&type=artist', 'offset': 0, 'previous': None, 'total': 800, 'items': [{'external_urls': {'spotify': 'https://open.spotify.com/artist/3scNK8e4mqnP6Rb8a3lwZY'}, 'followers': {'href': None, 'total': 127051}, 'genres': ['pakistani hip hop', 'pakistani pop'], 'href': 'https://api.spotify.com/v1/artists/3scNK8e4mqnP6Rb8a3lwZY', 'id': '3scNK8e4mqnP6Rb8a3lwZY', 'images': [{'url': 'https://i.scdn.co/image/ab6761610000e5eb9b6c7e199b426c19e47e0cfc', 'height': 640, 'width': 640}, {'url': 'https://i.scdn.co/image/ab676161000051749b6c7e199b426c19e47e0cfc', 'height': 320, 'width': 320}, {'url': 'https://i.scdn.co/image/ab6761610000f1789b6c7e199b426c19e47e0cfc', 'height': 160, 'width': 160}], 'name': 'Maanu', 'popularity': 60, 'type': 'artist', 'uri': 'spotify:artist:3scNK8e4mqnP6Rb8a3lwZY'}, {'external_urls': {'spotify': 'https://open.spotify.com/artist/1SlrUQlFRfExXSCkHsQgBc'}, 'followers': {'href': None, 'total': 155787}, 'genres': ['pakistani hip hop', 'urdu hip hop'], 'href': 'https://api.spotify.com/v1/artists/1SlrUQlFRfExXSCkHsQgBc', 'id': '1SlrUQlFRfExXSCkHsQgBc', 'images': [{'url': 'https://i.scdn.co/image/ab6761610000e5eb25246f5e57906dc47e48530e', 'height': 640, 'width': 640}, {'url': 'https://i.scdn.co/image/ab6761610000517425246f5e57906dc47e48530e', 'height': 320, 'width': 320}, {'url': 'https://i.scdn.co/image/ab6761610000f17825246f5e57906dc47e48530e', 'height': 160, 'width': 160}], 'name': 'JJ47', 'popularity': 54, 'type': 'artist', 'uri': 'spotify:artist:1SlrUQlFRfExXSCkHsQgBc'}, {'external_urls': {'spotify': 'https://open.spotify.com/artist/6YYXnbmC3hUuP2G9ZNerwf'}, 'followers': {'href': None, 'total': 93348}, 'genres': ['saraiki pop'], 'href': 'https://api.spotify.com/v1/artists/6YYXnbmC3hUuP2G9ZNerwf', 'id': '6YYXnbmC3hUuP2G9ZNerwf', 'images': [{'url': 'https://i.scdn.co/image/ab6761610000e5ebff2aa434883a851b237e1920', 'height': 640, 'width': 640}, {'url': 'https://i.scdn.co/image/ab67616100005174ff2aa434883a851b237e1920', 'height': 320, 'width': 320}, {'url': 'https://i.scdn.co/image/ab6761610000f178ff2aa434883a851b237e1920', 'height': 160, 'width': 160}], 'name': 'Zeeshan Khan Rokhri', 'popularity': 38, 'type': 'artist', 'uri': 'spotify:artist:6YYXnbmC3hUuP2G9ZNerwf'}, {'external_urls': {'spotify': 'https://open.spotify.com/artist/384pA1WJO9B09gUcuIL2XP'}, 'followers': {'href': None, 'total': 268488}, 'genres': ['pakistani hip hop', 'urdu hip hop'], 'href': 'https://api.spotify.com/v1/artists/384pA1WJO9B09gUcuIL2XP', 'id': '384pA1WJO9B09gUcuIL2XP', 'images': [{'url': 'https://i.scdn.co/image/ab6761610000e5ebe44dd809ea42ee0d37b5b634', 'height': 640, 'width': 640}, {'url': 'https://i.scdn.co/image/ab67616100005174e44dd809ea42ee0d37b5b634', 'height': 320, 'width': 320}, {'url': 'https://i.scdn.co/image/ab6761610000f178e44dd809ea42ee0d37b5b634', 'height': 160, 'width': 160}], 'name': 'aleemrk', 'popularity': 53, 'type': 'artist', 'uri': 'spotify:artist:384pA1WJO9B09gUcuIL2XP'}, {'external_urls': {'spotify': 'https://open.spotify.com/artist/3fuVoj41Ig8pV6J55JU1NS'}, 'followers': {'href': None, 'total': 53492}, 'genres': ['afghan pop', 'pashto pop'], 'href': 'https://api.spotify.com/v1/artists/3fuVoj41Ig8pV6J55JU1NS', 'id': '3fuVoj41Ig8pV6J55JU1NS', 'images': [{'url': 'https://i.scdn.co/image/ab67616d0000b27367e77c7ac692cc72e136e279', 'height': 640, 'width': 640}, {'url': 'https://i.scdn.co/image/ab67616d00001e0267e77c7ac692cc72e136e279', 'height': 300, 'width': 300}, {'url': 'https://i.scdn.co/image/ab67616d0000485167e77c7ac692cc72e136e279', 'height': 64, 'width': 64}], 'name': 'Gul Panra', 'popularity': 35, 'type': 'artist', 'uri': 'spotify:artist:3fuVoj41Ig8pV6J55JU1NS'}, {'external_urls': {'spotify': 'https://open.spotify.com/artist/485dW6YyuxW3kpnWmuFnnv'}, 'followers': {'href': None, 'total': 2236}, 'genres': [], 'href': 'https://api.spotify.com/v1/artists/485dW6YyuxW3kpnWmuFnnv', 'id': '485dW6YyuxW3kpnWmuFnnv', 'images': [{'url': 'https://i.scdn.co/image/ab67616d0000b273cf61a5020340d6c7038f825a', 'height': 640, 'width': 640}, {'url': 'https://i.scdn.co/image/ab67616d00001e02cf61a5020340d6c7038f825a', 'height': 300, 'width': 300}, {'url': 'https://i.scdn.co/image/ab67616d00004851cf61a5020340d6c7038f825a', 'height': 64, 'width': 64}], 'name': 'Shajjar Hussain', 'popularity': 45, 'type': 'artist', 'uri': 'spotify:artist:485dW6YyuxW3kpnWmuFnnv'}, {'external_urls': {'spotify': 'https://open.spotify.com/artist/1CJqQZsNdOJbbWaoIHQm7g'}, 'followers': {'href': None, 'total': 72000}, 'genres': ['saraiki pop'], 'href': 'https://api.spotify.com/v1/artists/1CJqQZsNdOJbbWaoIHQm7g', 'id': '1CJqQZsNdOJbbWaoIHQm7g', 'images': [{'url': 'https://i.scdn.co/image/ab67616d0000b273f7512771664af4ab6ccf3573', 'height': 640, 'width': 640}, {'url': 'https://i.scdn.co/image/ab67616d00001e02f7512771664af4ab6ccf3573', 'height': 300, 'width': 300}, {'url': 'https://i.scdn.co/image/ab67616d00004851f7512771664af4ab6ccf3573', 'height': 64, 'width': 64}], 'name': 'Shafa Ullah Khan Rokhri', 'popularity': 35, 'type': 'artist', 'uri': 'spotify:artist:1CJqQZsNdOJbbWaoIHQm7g'}, {'external_urls': {'spotify': 'https://open.spotify.com/artist/6b3qsb0Mc5hW0bK1WuuaH3'}, 'followers': {'href': None, 'total': 63089}, 'genres': ['afghan pop', 'pashto pop'], 'href': 'https://api.spotify.com/v1/artists/6b3qsb0Mc5hW0bK1WuuaH3', 'id': '6b3qsb0Mc5hW0bK1WuuaH3', 'images': [{'url': 'https://i.scdn.co/image/ab6761610000e5ebce01d58d5cb2155667cf9113', 'height': 640, 'width': 640}, {'url': 'https://i.scdn.co/image/ab67616100005174ce01d58d5cb2155667cf9113', 'height': 320, 'width': 320}, {'url': 'https://i.scdn.co/image/ab6761610000f178ce01d58d5cb2155667cf9113', 'height': 160, 'width': 160}], 'name': 'Karan Khan', 'popularity': 33, 'type': 'artist', 'uri': 'spotify:artist:6b3qsb0Mc5hW0bK1WuuaH3'}, {'external_urls': {'spotify': 'https://open.spotify.com/artist/1gWtpJ8fBLRQYPPoT49Vv3'}, 'followers': {'href': None, 'total': 13510}, 'genres': ['pashto pop'], 'href': 'https://api.spotify.com/v1/artists/1gWtpJ8fBLRQYPPoT49Vv3', 'id': '1gWtpJ8fBLRQYPPoT49Vv3', 'images': [{'url': 'https://i.scdn.co/image/ab6761610000e5eb953311a8cb6306b82cf889d5', 'height': 640, 'width': 640}, {'url': 'https://i.scdn.co/image/ab67616100005174953311a8cb6306b82cf889d5', 'height': 320, 'width': 320}, {'url': 'https://i.scdn.co/image/ab6761610000f178953311a8cb6306b82cf889d5', 'height': 160, 'width': 160}], 'name': 'Wajid Layaq', 'popularity': 34, 'type': 'artist', 'uri': 'spotify:artist:1gWtpJ8fBLRQYPPoT49Vv3'}, {'external_urls': {'spotify': 'https://open.spotify.com/artist/0IJYAmQhqf7gY8FkoSCSwZ'}, 'followers': {'href': None, 'total': 7199}, 'genres': [], 'href': 'https://api.spotify.com/v1/artists/0IJYAmQhqf7gY8FkoSCSwZ', 'id': '0IJYAmQhqf7gY8FkoSCSwZ', 'images': [{'url': 'https://i.scdn.co/image/ab6761610000e5eb502ee1f55aaa9330f7b6ee54', 'height': 640, 'width': 640}, {'url': 'https://i.scdn.co/image/ab67616100005174502ee1f55aaa9330f7b6ee54', 'height': 320, 'width': 320}, {'url': 'https://i.scdn.co/image/ab6761610000f178502ee1f55aaa9330f7b6ee54', 'height': 160, 'width': 160}], 'name': 'BAIG', 'popularity': 43, 'type': 'artist', 'uri': 'spotify:artist:0IJYAmQhqf7gY8FkoSCSwZ'}]}}\n"
     ]
    }
   ],
   "source": [
    "import requests\n",
    "import boto3\n",
    "import json\n",
    "import base64\n",
    "from urllib.parse import urlencode\n",
    "\n",
    "# Spotify API credentials\n",
    "CLIENT_ID = \"**********************\"\n",
    "CLIENT_SECRET = \"****************************\"\n",
    "REDIRECT_URI = 'https://open.spotify.com/callback/'  # Make sure to register this in your Spotify Developer Dashboard\n",
    "\n",
    "# AWS Region for CloudWatch\n",
    "AWS_REGION = 'us-east-1'  # Change to your AWS region\n",
    "\n",
    "# CloudWatch Event source and detail-type\n",
    "EVENT_SOURCE = 'custom.spotify'\n",
    "EVENT_DETAIL_TYPE = 'Spotify API Trigger'\n",
    "\n",
    "# Step 1: Generate the authorization URL\n",
    "def get_authorization_url():\n",
    "    # Use scope for accessing public playlists and tracks\n",
    "    scope = \"playlist-read-private\"  # Access public playlists\n",
    "    auth_url = f\"https://accounts.spotify.com/authorize?client_id={CLIENT_ID}&response_type=code&redirect_uri={REDIRECT_URI}&scope={scope}\"\n",
    "    return auth_url\n",
    "\n",
    "# Step 2: Exchange authorization code for access token\n",
    "def get_spotify_token(auth_code):\n",
    "    url = \"https://accounts.spotify.com/api/token\"\n",
    "    headers = {\n",
    "        \"Authorization\": \"Basic \" + base64.b64encode(f\"{CLIENT_ID}:{CLIENT_SECRET}\".encode()).decode(\"utf-8\"),\n",
    "        \"Content-Type\": \"application/x-www-form-urlencoded\"\n",
    "    }\n",
    "    payload = {\n",
    "        \"grant_type\": \"authorization_code\",\n",
    "        \"code\": auth_code,  # Authorization code from the previous step\n",
    "        \"redirect_uri\": REDIRECT_URI\n",
    "    }\n",
    "    response = requests.post(url, headers=headers, data=payload)\n",
    "    response_data = response.json()\n",
    "\n",
    "    # Check for token in the response\n",
    "    if 'access_token' in response_data:\n",
    "        return response_data['access_token']\n",
    "    else:\n",
    "        print(\"Error:\", response_data)\n",
    "        return None\n",
    "\n",
    "# Step 3: Fetch data from Spotify API (e.g., get public playlists)\n",
    "def fetch_spotify_data():\n",
    "    # Replace with the actual authorization code from the URL\n",
    "    auth_code = 'AQA38E1Bu4mjFCrlzHZ4DU9JzeeF4jaIvKAsLMjUGDHPcd5ToRjdoW9Z6kX7euoVmsGkbX6Y9eiJWutI_9faf523goc3NqKCDE9y2bBjguC96WWAPHR_72ny3ep1IECx6FSYEC6kGJduHpnciLZMOJAN1Ok-jvSR2d1HQivyaETUOVPZPSPckLbtyMxmrBaX8wN6u-VhoI6TZgZ5pQ'  # Replace with the actual code after user authorization\n",
    "    access_token = get_spotify_token(auth_code)\n",
    "\n",
    "    if access_token is None:\n",
    "        print(\"Failed to obtain access token\")\n",
    "        return {}\n",
    "\n",
    "    url = \"https://api.spotify.com/v1/me/playlists\"  # Example endpoint for public data (replace as needed)\n",
    "    headers = {\n",
    "        \"Authorization\": f\"Bearer {access_token}\"\n",
    "    }\n",
    "    response = requests.get(url, headers=headers)\n",
    "    return response.json()\n",
    "\n",
    "# Function to send custom event to CloudWatch\n",
    "def send_event_to_cloudwatch(data):\n",
    "    # Initialize CloudWatch client\n",
    "    client = boto3.client('events', region_name=AWS_REGION)\n",
    "\n",
    "    # Send custom event to CloudWatch\n",
    "    response = client.put_events(\n",
    "        Entries=[{\n",
    "            'Source': EVENT_SOURCE,\n",
    "            'DetailType': EVENT_DETAIL_TYPE,\n",
    "            'Detail': json.dumps(data),\n",
    "            'EventBusName': 'default',  # Use 'default' unless you have a custom event bus\n",
    "        }]\n",
    "    )\n",
    "    print(f\"Event sent to CloudWatch: {response}\")\n",
    "\n",
    "# Main function\n",
    "def main():\n",
    "    # Step 1: Get the authorization URL\n",
    "    auth_url = get_authorization_url()\n",
    "    print(f\"Visit this URL and authorize the app: {auth_url}\")\n",
    "    \n",
    "    # Once you get the authorization code from the URL, replace 'authorization_code_value'\n",
    "    # with the actual authorization code in your code\n",
    "    spotify_data = fetch_spotify_data()\n",
    "    print(\"Spotify Data:\", spotify_data)\n",
    "\n",
    "    # Send Spotify data to CloudWatch as a custom event\n",
    "    send_event_to_cloudwatch(spotify_data)\n",
    "\n",
    "if __name__ == \"__main__\":\n",
    "    main()"
   ]
  }
 ],
 "metadata": {
  "kernelspec": {
   "display_name": "Python 3 (ipykernel)",
   "language": "python",
   "name": "python3"
  },
  "language_info": {
   "codemirror_mode": {
    "name": "ipython",
    "version": 3
   },
   "file_extension": ".py",
   "mimetype": "text/x-python",
   "name": "python",
   "nbconvert_exporter": "python",
   "pygments_lexer": "ipython3",
   "version": "3.11.7"
  }
 },
 "nbformat": 4,
 "nbformat_minor": 5
}
